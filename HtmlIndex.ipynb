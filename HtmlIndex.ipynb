{
 "cells": [
  {
   "cell_type": "code",
   "execution_count": 1,
   "id": "a31a8ddb-76d7-435a-b68f-12684cefe1ab",
   "metadata": {},
   "outputs": [
    {
     "name": "stdout",
     "output_type": "stream",
     "text": [
      "✅ HTML template saved to templates/index.html\n"
     ]
    }
   ],
   "source": [
    "html_code = \"\"\"<!DOCTYPE html>\n",
    "<html lang=\"en\">\n",
    "<head>\n",
    "  <meta charset=\"UTF-8\">\n",
    "  <meta name=\"viewport\" content=\"width=device-width, initial-scale=1.0\">\n",
    "  <title>Fake News Detector</title>\n",
    "  <link href=\"https://cdn.jsdelivr.net/npm/tailwindcss@2.2.19/dist/tailwind.min.css\" rel=\"stylesheet\">\n",
    "</head>\n",
    "<body class=\"container mx-auto p-4 bg-gray-100\">\n",
    "  <h1 class=\"text-3xl font-bold text-center mb-8 text-blue-600\">Fake News Detector (LSTM)</h1>\n",
    "  \n",
    "  <!-- Prediction Form -->\n",
    "  <form method=\"POST\" action=\"/predict\" class=\"flex flex-col gap-4 mb-8\">\n",
    "    <textarea\n",
    "      name=\"text\"\n",
    "      rows=\"5\"\n",
    "      class=\"border p-2 rounded w-full shadow-sm focus:outline-none focus:ring-2 focus:ring-blue-500\"\n",
    "      placeholder=\"Enter news article text...\"\n",
    "    ></textarea>\n",
    "    <button type=\"submit\" class=\"bg-blue-500 text-white p-2 rounded hover:bg-blue-600 transition\">\n",
    "      Check News\n",
    "    </button>\n",
    "  </form>\n",
    "  \n",
    "  <!-- Prediction Result -->\n",
    "  {% if result %}\n",
    "  <div class=\"mt-4 p-4 bg-white rounded shadow\">\n",
    "    <p class=\"text-lg\">Prediction: <strong>{{ result.prediction }}</strong></p>\n",
    "    <p class=\"text-lg\">Confidence: {{ (result.confidence * 100)|round(2) }}%</p>\n",
    "  </div>\n",
    "  {% endif %}\n",
    "  {% if error %}\n",
    "  <div class=\"mt-4 p-4 bg-red-100 text-red-700 rounded shadow\">\n",
    "    <p>{{ error }}</p>\n",
    "  </div>\n",
    "  {% endif %}\n",
    "</body>\n",
    "</html>\n",
    "\"\"\"\n",
    "\n",
    "# Save to file\n",
    "with open(\"index.html\", \"w\", encoding=\"utf-8\") as f:\n",
    "    f.write(html_code)\n",
    "\n",
    "print(\"✅ HTML template saved to templates/index.html\")"
   ]
  },
  {
   "cell_type": "code",
   "execution_count": null,
   "id": "bf26fc8d-1d7b-4f67-b09f-1d916ae4fe50",
   "metadata": {},
   "outputs": [],
   "source": []
  }
 ],
 "metadata": {
  "kernelspec": {
   "display_name": "Python (nlp_env)",
   "language": "python",
   "name": "nlp_env"
  },
  "language_info": {
   "codemirror_mode": {
    "name": "ipython",
    "version": 3
   },
   "file_extension": ".py",
   "mimetype": "text/x-python",
   "name": "python",
   "nbconvert_exporter": "python",
   "pygments_lexer": "ipython3",
   "version": "3.10.0"
  }
 },
 "nbformat": 4,
 "nbformat_minor": 5
}
