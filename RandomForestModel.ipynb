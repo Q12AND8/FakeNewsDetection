{
 "cells": [
  {
   "cell_type": "code",
   "execution_count": 1,
   "id": "31b89c2b-b14f-4c68-b06b-90fe6a25de0b",
   "metadata": {},
   "outputs": [
    {
     "name": "stdout",
     "output_type": "stream",
     "text": [
      "                                               title  \\\n",
      "0  u.s. budget fight looms, republican flip fisca...   \n",
      "1  u.s. military accept transgender recruit monda...   \n",
      "2  senior u.s. republican senator: 'let mr. muell...   \n",
      "3  fbi russia probe helped australian diplomat ti...   \n",
      "4  trump want postal service charge 'much more' a...   \n",
      "\n",
      "                                                text       subject  \\\n",
      "0  washington (reuters) - head conservative repub...  politicsNews   \n",
      "1  washington (reuters) - transgender people allo...  politicsNews   \n",
      "2  washington (reuters) - special counsel investi...  politicsNews   \n",
      "3  washington (reuters) - trump campaign adviser ...  politicsNews   \n",
      "4  seattle washington (reuters) - president donal...  politicsNews   \n",
      "\n",
      "         date  subject_encoded  label  \\\n",
      "0  2017-12-31                6      1   \n",
      "1  2017-12-29                6      1   \n",
      "2  2017-12-31                6      1   \n",
      "3  2017-12-30                6      1   \n",
      "4  2017-12-29                6      1   \n",
      "\n",
      "                                          clean_text  day  month  year  \\\n",
      "0  washington reuters head conservative republica...   31     12  2017   \n",
      "1  washington reuters transgender people allowed ...   29     12  2017   \n",
      "2  washington reuters special counsel investigati...   31     12  2017   \n",
      "3  washington reuters trump campaign adviser geor...   30     12  2017   \n",
      "4  seattle washington reuters president donald tr...   29     12  2017   \n",
      "\n",
      "   weekday  sentiment                                         w2v_vector  \n",
      "0        6   0.027671  [ 0.3638435  -0.25838256 -0.4028921   0.180938...  \n",
      "1        4   0.082515  [ 0.23398064  0.00797319 -0.1858113  -0.029973...  \n",
      "2        6   0.127165  [ 0.3554207   0.08425109 -0.405009    0.547459...  \n",
      "3        5   0.031498  [ 0.3985251  -0.03395822 -0.2515696   0.218302...  \n",
      "4        4   0.032205  [ 0.488537   -0.23823102 -0.4313334   0.360709...  \n"
     ]
    }
   ],
   "source": [
    "import pandas as pd\n",
    "from sklearn.model_selection import train_test_split\n",
    "from sklearn.ensemble import RandomForestClassifier\n",
    "from sklearn.metrics import classification_report, accuracy_score\n",
    "import ast\n",
    "\n",
    "df = pd.read_csv('DataSetForModel.csv')\n",
    "print(df.head())"
   ]
  },
  {
   "cell_type": "code",
   "execution_count": 2,
   "id": "ff2b3d6e-6f61-44c0-bca2-23b63189f055",
   "metadata": {},
   "outputs": [
    {
     "name": "stdout",
     "output_type": "stream",
     "text": [
      "                                               title  \\\n",
      "0  u.s. budget fight looms, republican flip fisca...   \n",
      "1  u.s. military accept transgender recruit monda...   \n",
      "2  senior u.s. republican senator: 'let mr. muell...   \n",
      "3  fbi russia probe helped australian diplomat ti...   \n",
      "4  trump want postal service charge 'much more' a...   \n",
      "\n",
      "                                                text       subject  \\\n",
      "0  washington (reuters) - head conservative repub...  politicsNews   \n",
      "1  washington (reuters) - transgender people allo...  politicsNews   \n",
      "2  washington (reuters) - special counsel investi...  politicsNews   \n",
      "3  washington (reuters) - trump campaign adviser ...  politicsNews   \n",
      "4  seattle washington (reuters) - president donal...  politicsNews   \n",
      "\n",
      "         date  subject_encoded  label  \\\n",
      "0  2017-12-31                6      1   \n",
      "1  2017-12-29                6      1   \n",
      "2  2017-12-31                6      1   \n",
      "3  2017-12-30                6      1   \n",
      "4  2017-12-29                6      1   \n",
      "\n",
      "                                          clean_text  day  month  year  \\\n",
      "0  washington reuters head conservative republica...   31     12  2017   \n",
      "1  washington reuters transgender people allowed ...   29     12  2017   \n",
      "2  washington reuters special counsel investigati...   31     12  2017   \n",
      "3  washington reuters trump campaign adviser geor...   30     12  2017   \n",
      "4  seattle washington reuters president donald tr...   29     12  2017   \n",
      "\n",
      "   weekday  sentiment                                         w2v_vector  \n",
      "0        6   0.027671  [0.3638435, -0.25838256, -0.4028921, 0.1809386...  \n",
      "1        4   0.082515  [0.23398064, 0.00797319, -0.1858113, -0.029973...  \n",
      "2        6   0.127165  [0.3554207, 0.08425109, -0.405009, 0.5474599, ...  \n",
      "3        5   0.031498  [0.3985251, -0.03395822, -0.2515696, 0.2183025...  \n",
      "4        4   0.032205  [0.488537, -0.23823102, -0.4313334, 0.36070943...  \n"
     ]
    }
   ],
   "source": [
    "def parse_w2v_vector(vector_str):\n",
    "    if isinstance(vector_str, str):  # Check if it's a string\n",
    "        return list(map(float, vector_str.strip('[]').split()))\n",
    "    else:\n",
    "        return vector_str  # Return as is if it's already a list\n",
    "\n",
    "df['w2v_vector'] = df['w2v_vector'].apply(parse_w2v_vector)\n",
    "print(df.head())\n",
    "X = list(df['w2v_vector'])  \n",
    "y = df['label']     "
   ]
  },
  {
   "cell_type": "code",
   "execution_count": 3,
   "id": "e3b3aba6-abc2-443e-a064-b977241856db",
   "metadata": {},
   "outputs": [],
   "source": [
    "X_train, X_test, y_train, y_test = train_test_split(X, y, test_size=0.2,random_state=42)\n",
    "rf = RandomForestClassifier(n_estimators=100,random_state=42)\n",
    "rf.fit(X_train, y_train)\n",
    "y_pred = rf.predict(X_test)"
   ]
  },
  {
   "cell_type": "code",
   "execution_count": 4,
   "id": "25addfaa-95ea-48de-ae38-704b636dd08d",
   "metadata": {},
   "outputs": [
    {
     "name": "stdout",
     "output_type": "stream",
     "text": [
      "Accuracy: 0.9582587287376902\n",
      "\n",
      "Classification Report:\n",
      "               precision    recall  f1-score   support\n",
      "\n",
      "           0       0.95      0.97      0.96      4687\n",
      "           1       0.96      0.95      0.96      4249\n",
      "\n",
      "    accuracy                           0.96      8936\n",
      "   macro avg       0.96      0.96      0.96      8936\n",
      "weighted avg       0.96      0.96      0.96      8936\n",
      "\n",
      "\n",
      "Confusion Matrix:\n",
      " [[4529  158]\n",
      " [ 215 4034]]\n"
     ]
    }
   ],
   "source": [
    "from sklearn.metrics import confusion_matrix\n",
    "\n",
    "# Accuracy\n",
    "accuracy = accuracy_score(y_test, y_pred)\n",
    "print(\"Accuracy:\", accuracy)\n",
    "\n",
    "# Classification Report\n",
    "classify_report = classification_report(y_test, y_pred)\n",
    "print(\"\\nClassification Report:\\n\", classify_report)\n",
    "\n",
    "# Confusion Matrix\n",
    "conf_matrix = confusion_matrix(y_test, y_pred)\n",
    "print(\"\\nConfusion Matrix:\\n\", conf_matrix)\n"
   ]
  },
  {
   "cell_type": "code",
   "execution_count": 5,
   "id": "4dace31d-8d06-4851-a531-1c1c653d7e4d",
   "metadata": {},
   "outputs": [
    {
     "data": {
      "text/plain": [
       "['RandomForest.pkl']"
      ]
     },
     "execution_count": 5,
     "metadata": {},
     "output_type": "execute_result"
    }
   ],
   "source": [
    "import joblib\n",
    "\n",
    "joblib.dump(rf, 'RandomForest.pkl')\n"
   ]
  },
  {
   "cell_type": "code",
   "execution_count": 7,
   "id": "5579915c-9cf7-4a0c-90d7-3767a8e2341e",
   "metadata": {},
   "outputs": [],
   "source": [
    "#Store the results in a dictionary\n",
    "results = {\n",
    "    \"accuracy\": accuracy,\n",
    "    \"classification_report\": classify_report,\n",
    "    \"confusion_matrix\": conf_matrix.tolist()  # Convert to list for easier CSV export\n",
    "}\n",
    "\n",
    "#  Convert dictionary to DataFrame\n",
    "results_df = pd.DataFrame([results])\n",
    "\n",
    "#  Export the results to a CSV file\n",
    "results_df.to_csv('random_forest_evaluation.csv', index=False)\n"
   ]
  },
  {
   "cell_type": "code",
   "execution_count": null,
   "id": "e2ae9817-05b9-4ebe-9b26-d05450f286da",
   "metadata": {},
   "outputs": [],
   "source": []
  }
 ],
 "metadata": {
  "kernelspec": {
   "display_name": "Python (tf_env)",
   "language": "python",
   "name": "tf_env"
  },
  "language_info": {
   "codemirror_mode": {
    "name": "ipython",
    "version": 3
   },
   "file_extension": ".py",
   "mimetype": "text/x-python",
   "name": "python",
   "nbconvert_exporter": "python",
   "pygments_lexer": "ipython3",
   "version": "3.10.0"
  }
 },
 "nbformat": 4,
 "nbformat_minor": 5
}
