{
 "cells": [
  {
   "cell_type": "code",
   "execution_count": 2,
   "id": "0a8f2582-3235-4cc0-83cf-8aa8a0151370",
   "metadata": {},
   "outputs": [
    {
     "name": "stdout",
     "output_type": "stream",
     "text": [
      " Accuracy: 0.9560205908683975\n",
      "\n",
      " Confusion Matrix:\n",
      " [[4478  209]\n",
      " [ 184 4065]]\n",
      "\n",
      " Classification Report:\n",
      "               precision    recall  f1-score   support\n",
      "\n",
      "           0       0.96      0.96      0.96      4687\n",
      "           1       0.95      0.96      0.95      4249\n",
      "\n",
      "    accuracy                           0.96      8936\n",
      "   macro avg       0.96      0.96      0.96      8936\n",
      "weighted avg       0.96      0.96      0.96      8936\n",
      "\n"
     ]
    }
   ],
   "source": [
    "import pandas as pd\n",
    "from sklearn.model_selection import train_test_split\n",
    "from sklearn.linear_model import LogisticRegression\n",
    "from sklearn.metrics import accuracy_score, classification_report, confusion_matrix\n",
    "import matplotlib.pyplot as plt\n",
    "import seaborn as sns\n",
    "\n",
    "# Step 1: Load the dataset\n",
    "df = pd.read_csv(\"DataSetForModel.csv\")\n",
    "\n",
    "# Step 2: Convert w2v_vector string to list of floats\n",
    "def convert_vector(vec_str):\n",
    "    vec_str = vec_str.strip(\"[]\")  # Remove square brackets\n",
    "    return [float(num) for num in vec_str.split() if num]  # Split and convert to float\n",
    "\n",
    "df['w2v_vector'] = df['w2v_vector'].apply(convert_vector)\n",
    "\n",
    "# Step 3: Prepare features (X) and target (y)\n",
    "X = df['w2v_vector'].tolist()\n",
    "y = df['label']\n",
    "\n",
    "# Step 4: Train-test split\n",
    "X_train, X_test, y_train, y_test = train_test_split(X, y, test_size=0.2, random_state=42)\n",
    "\n",
    "# Step 5: Train Logistic Regression model\n",
    "log_reg = LogisticRegression(max_iter=1000)\n",
    "log_reg.fit(X_train, y_train)\n",
    "\n",
    "# Step 6: Predict on test data\n",
    "y_pred = log_reg.predict(X_test)\n",
    "\n",
    "# Step 7: Evaluation\n",
    "accuracy = accuracy_score(y_test, y_pred)\n",
    "conf_matrix = confusion_matrix(y_test, y_pred)\n",
    "report = classification_report(y_test, y_pred)\n",
    "\n",
    "# Print results\n",
    "print(\" Accuracy:\", accuracy)\n",
    "print(\"\\n Confusion Matrix:\\n\", conf_matrix)\n",
    "print(\"\\n Classification Report:\\n\", report)\n"
   ]
  },
  {
   "cell_type": "code",
   "execution_count": 3,
   "id": "d2bb2812-4987-4d0c-a2ef-b4b030e6a157",
   "metadata": {},
   "outputs": [
    {
     "data": {
      "text/plain": [
       "['LogisticRegression.pkl']"
      ]
     },
     "execution_count": 3,
     "metadata": {},
     "output_type": "execute_result"
    }
   ],
   "source": [
    "import joblib\n",
    "\n",
    "joblib.dump(log_reg, 'LogisticRegression.pkl')"
   ]
  },
  {
   "cell_type": "code",
   "execution_count": 5,
   "id": "b59263c8-77e7-49bd-96b9-71c191b4371c",
   "metadata": {},
   "outputs": [],
   "source": []
  },
  {
   "cell_type": "code",
   "execution_count": 6,
   "id": "ac9b3331-6069-4175-b1b4-9582d4532a8f",
   "metadata": {},
   "outputs": [],
   "source": []
  },
  {
   "cell_type": "code",
   "execution_count": null,
   "id": "3d810ac7-e962-459f-84a8-2ad293bf3aec",
   "metadata": {},
   "outputs": [],
   "source": []
  },
  {
   "cell_type": "code",
   "execution_count": null,
   "id": "40b0e3cb-58cd-4ff3-ae66-13ba0826584f",
   "metadata": {},
   "outputs": [],
   "source": []
  }
 ],
 "metadata": {
  "kernelspec": {
   "display_name": "Python 3 (ipykernel)",
   "language": "python",
   "name": "python3"
  },
  "language_info": {
   "codemirror_mode": {
    "name": "ipython",
    "version": 3
   },
   "file_extension": ".py",
   "mimetype": "text/x-python",
   "name": "python",
   "nbconvert_exporter": "python",
   "pygments_lexer": "ipython3",
   "version": "3.12.6"
  }
 },
 "nbformat": 4,
 "nbformat_minor": 5
}
