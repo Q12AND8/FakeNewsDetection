{
 "cells": [
  {
   "cell_type": "code",
   "execution_count": 1,
   "id": "4748636a-bde9-495f-8778-af720782137f",
   "metadata": {
    "scrolled": true
   },
   "outputs": [
    {
     "name": "stdout",
     "output_type": "stream",
     "text": [
      "                                               title  \\\n",
      "0  u.s. budget fight looms, republican flip fisca...   \n",
      "1  u.s. military accept transgender recruit monda...   \n",
      "2  senior u.s. republican senator: 'let mr. muell...   \n",
      "3  fbi russia probe helped australian diplomat ti...   \n",
      "4  trump want postal service charge 'much more' a...   \n",
      "\n",
      "                                                text       subject  \\\n",
      "0  washington (reuters) - head conservative repub...  politicsNews   \n",
      "1  washington (reuters) - transgender people allo...  politicsNews   \n",
      "2  washington (reuters) - special counsel investi...  politicsNews   \n",
      "3  washington (reuters) - trump campaign adviser ...  politicsNews   \n",
      "4  seattle washington (reuters) - president donal...  politicsNews   \n",
      "\n",
      "         date  subject_encoded  label  \\\n",
      "0  2017-12-31                6      1   \n",
      "1  2017-12-29                6      1   \n",
      "2  2017-12-31                6      1   \n",
      "3  2017-12-30                6      1   \n",
      "4  2017-12-29                6      1   \n",
      "\n",
      "                                          clean_text  day  month  year  \\\n",
      "0  washington reuters head conservative republica...   31     12  2017   \n",
      "1  washington reuters transgender people allowed ...   29     12  2017   \n",
      "2  washington reuters special counsel investigati...   31     12  2017   \n",
      "3  washington reuters trump campaign adviser geor...   30     12  2017   \n",
      "4  seattle washington reuters president donald tr...   29     12  2017   \n",
      "\n",
      "   weekday  sentiment                                         w2v_vector  \n",
      "0        6   0.027671  [ 0.3638435  -0.25838256 -0.4028921   0.180938...  \n",
      "1        4   0.082515  [ 0.23398064  0.00797319 -0.1858113  -0.029973...  \n",
      "2        6   0.127165  [ 0.3554207   0.08425109 -0.405009    0.547459...  \n",
      "3        5   0.031498  [ 0.3985251  -0.03395822 -0.2515696   0.218302...  \n",
      "4        4   0.032205  [ 0.488537   -0.23823102 -0.4313334   0.360709...  \n"
     ]
    }
   ],
   "source": [
    "import pandas as pd\n",
    "\n",
    "df = pd.read_csv('DataSetForModel.csv')  # Replace with your filename\n",
    "print(df.head())  # Display first 5 rows\n"
   ]
  },
  {
   "cell_type": "code",
   "execution_count": 2,
   "id": "04973629-6182-4b3e-ba81-d6af33e4b62f",
   "metadata": {},
   "outputs": [
    {
     "name": "stdout",
     "output_type": "stream",
     "text": [
      "Accuracy: 0.9312891674127126\n",
      "\n",
      "Classification Report:\n",
      "               precision    recall  f1-score   support\n",
      "\n",
      "           0       0.93      0.94      0.93      4687\n",
      "           1       0.93      0.92      0.93      4249\n",
      "\n",
      "    accuracy                           0.93      8936\n",
      "   macro avg       0.93      0.93      0.93      8936\n",
      "weighted avg       0.93      0.93      0.93      8936\n",
      "\n",
      "Confusion Matrix:\n",
      " [[4411  276]\n",
      " [ 338 3911]]\n"
     ]
    }
   ],
   "source": [
    "import pandas as pd\n",
    "from sklearn.model_selection import train_test_split\n",
    "from sklearn.feature_extraction.text import TfidfVectorizer\n",
    "from sklearn.naive_bayes import MultinomialNB\n",
    "from sklearn.metrics import accuracy_score, classification_report, confusion_matrix\n",
    "# Replace NaN in clean_text with empty string\n",
    "df['clean_text'] = df['clean_text'].fillna(\"\")\n",
    "\n",
    "# Now split\n",
    "X = df['clean_text']\n",
    "y = df['label']\n",
    "\n",
    "# Split into training and test sets\n",
    "X_train, X_test, y_train, y_test = train_test_split(X, y, test_size=0.2, random_state=42)\n",
    "\n",
    "# Vectorize text using TF-IDF\n",
    "tfidf = TfidfVectorizer(stop_words='english', max_features=5000)\n",
    "X_train_tfidf = tfidf.fit_transform(X_train)\n",
    "X_test_tfidf = tfidf.transform(X_test)\n",
    "\n",
    "# Train Naive Bayes model\n",
    "model = MultinomialNB()\n",
    "model.fit(X_train_tfidf, y_train)\n",
    "\n",
    "# Predict\n",
    "y_pred = model.predict(X_test_tfidf)\n",
    "\n",
    "# Evaluation\n",
    "accuracy = accuracy_score(y_test, y_pred)\n",
    "conf_matrix = confusion_matrix(y_test, y_pred)\n",
    "report = classification_report(y_test, y_pred)\n",
    "\n",
    "# Print results\n",
    "print(\"Accuracy:\", accuracy)\n",
    "print(\"\\nClassification Report:\\n\", report)\n",
    "print(\"Confusion Matrix:\\n\", conf_matrix)"
   ]
  },
  {
   "cell_type": "code",
   "execution_count": 3,
   "id": "20211d39-bd01-4666-9f55-f60645743bd4",
   "metadata": {},
   "outputs": [],
   "source": [
    "# Exporting Evaluation Results to CSV\n",
    "# Organize evaluation metrics into a dictionary\n",
    "results = {\n",
    "    \"accuracy\": accuracy,\n",
    "    \"confusion_matrix\": conf_matrix.flatten(),  # Flatten confusion matrix for easier CSV export\n",
    "    \"classification_report\": str(report)  # Convert report to string for export\n",
    "}\n",
    "\n",
    "# Convert dictionary to DataFrame for CSV export\n",
    "results_df = pd.DataFrame([results])\n",
    "\n",
    "# Export the DataFrame to a CSV file\n",
    "results_df.to_csv('naive_bayes_evaluation.csv', index=False)\n"
   ]
  },
  {
   "cell_type": "code",
   "execution_count": null,
   "id": "97bde17f-33d8-4941-91c1-703f717c1bf4",
   "metadata": {},
   "outputs": [],
   "source": []
  }
 ],
 "metadata": {
  "kernelspec": {
   "display_name": "Python 3 (ipykernel)",
   "language": "python",
   "name": "python3"
  },
  "language_info": {
   "codemirror_mode": {
    "name": "ipython",
    "version": 3
   },
   "file_extension": ".py",
   "mimetype": "text/x-python",
   "name": "python",
   "nbconvert_exporter": "python",
   "pygments_lexer": "ipython3",
   "version": "3.10.0"
  }
 },
 "nbformat": 4,
 "nbformat_minor": 5
}
