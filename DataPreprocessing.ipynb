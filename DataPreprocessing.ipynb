{
 "cells": [
  {
   "cell_type": "code",
   "execution_count": 9,
   "id": "dbb52841-3823-47a1-bce3-07c7649b248b",
   "metadata": {},
   "outputs": [
    {
     "name": "stdout",
     "output_type": "stream",
     "text": [
      "                                               title  \\\n",
      "0  As U.S. budget fight looms, Republicans flip t...   \n",
      "1  U.S. military to accept transgender recruits o...   \n",
      "2  Senior U.S. Republican senator: 'Let Mr. Muell...   \n",
      "3  FBI Russia probe helped by Australian diplomat...   \n",
      "4  Trump wants Postal Service to charge 'much mor...   \n",
      "\n",
      "                                                text       subject  \\\n",
      "0  WASHINGTON (Reuters) - The head of a conservat...  politicsNews   \n",
      "1  WASHINGTON (Reuters) - Transgender people will...  politicsNews   \n",
      "2  WASHINGTON (Reuters) - The special counsel inv...  politicsNews   \n",
      "3  WASHINGTON (Reuters) - Trump campaign adviser ...  politicsNews   \n",
      "4  SEATTLE/WASHINGTON (Reuters) - President Donal...  politicsNews   \n",
      "\n",
      "                 date  \n",
      "0  December 31, 2017   \n",
      "1  December 29, 2017   \n",
      "2  December 31, 2017   \n",
      "3  December 30, 2017   \n",
      "4  December 29, 2017   \n"
     ]
    }
   ],
   "source": [
    "import pandas as pd\n",
    "import numpy as np\n",
    "#Load the DataSet1\n",
    "df = pd.read_csv(\"True.csv\")\n",
    "print(df.head())"
   ]
  },
  {
   "cell_type": "code",
   "execution_count": 10,
   "id": "2ea29621-ca03-44f4-828f-5fc0c75ddf5f",
   "metadata": {},
   "outputs": [
    {
     "name": "stdout",
     "output_type": "stream",
     "text": [
      "                                               title  \\\n",
      "0   Donald Trump Sends Out Embarrassing New Year’...   \n",
      "1   Drunk Bragging Trump Staffer Started Russian ...   \n",
      "2   Sheriff David Clarke Becomes An Internet Joke...   \n",
      "3   Trump Is So Obsessed He Even Has Obama’s Name...   \n",
      "4   Pope Francis Just Called Out Donald Trump Dur...   \n",
      "\n",
      "                                                text subject  \\\n",
      "0  Donald Trump just couldn t wish all Americans ...    News   \n",
      "1  House Intelligence Committee Chairman Devin Nu...    News   \n",
      "2  On Friday, it was revealed that former Milwauk...    News   \n",
      "3  On Christmas day, Donald Trump announced that ...    News   \n",
      "4  Pope Francis used his annual Christmas Day mes...    News   \n",
      "\n",
      "                date  \n",
      "0  December 31, 2017  \n",
      "1  December 31, 2017  \n",
      "2  December 30, 2017  \n",
      "3  December 29, 2017  \n",
      "4  December 25, 2017  \n"
     ]
    }
   ],
   "source": [
    "#Load the Dataset2\n",
    "ds = pd.read_csv(\"Fake.csv\")\n",
    "print(ds.head())"
   ]
  },
  {
   "cell_type": "code",
   "execution_count": 11,
   "id": "a8cf8124-c6c4-4873-9f25-1626528925e2",
   "metadata": {},
   "outputs": [
    {
     "name": "stdout",
     "output_type": "stream",
     "text": [
      "(21417, 4)\n",
      "Index(['title', 'text', 'subject', 'date'], dtype='object')\n",
      "<class 'pandas.core.frame.DataFrame'>\n",
      "RangeIndex: 21417 entries, 0 to 21416\n",
      "Data columns (total 4 columns):\n",
      " #   Column   Non-Null Count  Dtype \n",
      "---  ------   --------------  ----- \n",
      " 0   title    21417 non-null  object\n",
      " 1   text     21417 non-null  object\n",
      " 2   subject  21417 non-null  object\n",
      " 3   date     21417 non-null  object\n",
      "dtypes: object(4)\n",
      "memory usage: 669.4+ KB\n",
      "None\n",
      "                                                    title  \\\n",
      "count                                               21417   \n",
      "unique                                              20826   \n",
      "top     Factbox: Trump fills top jobs for his administ...   \n",
      "freq                                                   14   \n",
      "\n",
      "                                                     text       subject  \\\n",
      "count                                               21417         21417   \n",
      "unique                                              21192             2   \n",
      "top     (Reuters) - Highlights for U.S. President Dona...  politicsNews   \n",
      "freq                                                    8         11272   \n",
      "\n",
      "                      date  \n",
      "count                21417  \n",
      "unique                 716  \n",
      "top     December 20, 2017   \n",
      "freq                   182  \n"
     ]
    }
   ],
   "source": [
    "#Explore the Dataset1\n",
    "print(df.shape)           # Check number of rows and columns\n",
    "print(df.columns)         # See column names\n",
    "print(df.info())          # Data types and non-null counts\n",
    "print(df.describe())      # Basic statistics"
   ]
  },
  {
   "cell_type": "code",
   "execution_count": 13,
   "id": "c1d6b0da-b48a-4d72-9804-d7b50b517f6f",
   "metadata": {},
   "outputs": [
    {
     "name": "stdout",
     "output_type": "stream",
     "text": [
      "(23481, 4)\n",
      "Index(['title', 'text', 'subject', 'date'], dtype='object')\n",
      "<class 'pandas.core.frame.DataFrame'>\n",
      "RangeIndex: 23481 entries, 0 to 23480\n",
      "Data columns (total 4 columns):\n",
      " #   Column   Non-Null Count  Dtype \n",
      "---  ------   --------------  ----- \n",
      " 0   title    23481 non-null  object\n",
      " 1   text     23481 non-null  object\n",
      " 2   subject  23481 non-null  object\n",
      " 3   date     23481 non-null  object\n",
      "dtypes: object(4)\n",
      "memory usage: 733.9+ KB\n",
      "None\n",
      "                                                    title   text subject  \\\n",
      "count                                               23481  23481   23481   \n",
      "unique                                              17903  17455       6   \n",
      "top     MEDIA IGNORES Time That Bill Clinton FIRED His...           News   \n",
      "freq                                                    6    626    9050   \n",
      "\n",
      "                date  \n",
      "count          23481  \n",
      "unique          1681  \n",
      "top     May 10, 2017  \n",
      "freq              46  \n"
     ]
    }
   ],
   "source": [
    "#Explore the Dataset2\n",
    "print(ds.shape)\n",
    "print(ds.columns)\n",
    "print(ds.info())\n",
    "print(ds.describe())"
   ]
  },
  {
   "cell_type": "code",
   "execution_count": 14,
   "id": "9b28bcca-2632-44d7-83ae-57812c588031",
   "metadata": {},
   "outputs": [
    {
     "name": "stdout",
     "output_type": "stream",
     "text": [
      "title      0\n",
      "text       0\n",
      "subject    0\n",
      "date       0\n",
      "dtype: int64\n"
     ]
    }
   ],
   "source": [
    "#Check for Missing Values in Dataset1\n",
    "print(df.isnull().sum())"
   ]
  },
  {
   "cell_type": "code",
   "execution_count": 15,
   "id": "92f387a1-1caa-469e-b329-338975e72841",
   "metadata": {},
   "outputs": [
    {
     "name": "stdout",
     "output_type": "stream",
     "text": [
      "title      0\n",
      "text       0\n",
      "subject    0\n",
      "date       0\n",
      "dtype: int64\n"
     ]
    }
   ],
   "source": [
    "#Check for Missing Values in Dataset1\n",
    "print(ds.isnull().sum())"
   ]
  },
  {
   "cell_type": "code",
   "execution_count": 17,
   "id": "75fd27e7-4b5d-4f3b-a6bf-3e2d15a525f9",
   "metadata": {},
   "outputs": [],
   "source": [
    "#Remove Duplicate Rows for Dataset1\n",
    "df = df.drop_duplicates()\n",
    "#Remove Duplicate Rows for Dataset1\n",
    "ds = ds.drop_duplicates()"
   ]
  },
  {
   "cell_type": "code",
   "execution_count": 19,
   "id": "a6f7a917-2056-4075-97d3-bf60a710648f",
   "metadata": {},
   "outputs": [],
   "source": [
    "#Convert date Column to Datetime Format for Dataset1\n",
    "df['date'] = pd.to_datetime(df['date'])\n",
    "#Convert date Column to Datetime Format for Dataset2\n",
    "ds['date'] = pd.to_datetime(ds['date'], format='mixed', errors='coerce')\n",
    "#Remove rows with invalid dates\n",
    "ds = ds.dropna(subset=['date'])"
   ]
  },
  {
   "cell_type": "code",
   "execution_count": 21,
   "id": "a3cc1a55-420a-49cb-848e-3f4969ff534c",
   "metadata": {},
   "outputs": [],
   "source": [
    "#Text Cleaning (title and text columns) for Dataset1\n",
    "import re\n",
    "\n",
    "def clean_text(text):\n",
    "    text = re.sub(r'\\s+', ' ', text)  # Remove extra whitespace\n",
    "    text = re.sub(r\"[^a-zA-Z0-9,.!?;:()'\\\"-]\", ' ', text)  # Remove unwanted chars\n",
    "    return text.strip()\n",
    "\n",
    "df['title'] = df['title'].apply(clean_text)\n",
    "df['text'] = df['text'].apply(clean_text)\n",
    "\n",
    "#Text Cleaning (title and text columns) for Dataset2\n",
    "ds['title'] = ds['title'].apply(clean_text)\n",
    "ds['text'] = ds['text'].apply(clean_text)"
   ]
  },
  {
   "cell_type": "code",
   "execution_count": 22,
   "id": "5b0f8f76-478f-4703-a723-bacf8197910d",
   "metadata": {},
   "outputs": [],
   "source": [
    "#Lowercase the Text for Dataset1\n",
    "df['title'] = df['title'].str.lower()\n",
    "df['text'] = df['text'].str.lower()\n",
    "#Lowercase the Text for Dataset2\n",
    "ds['title'] = ds['title'].str.lower()\n",
    "ds['text'] = ds['text'].str.lower()"
   ]
  },
  {
   "cell_type": "code",
   "execution_count": 25,
   "id": "7a412742-599c-43a3-8e69-11cd168767ff",
   "metadata": {},
   "outputs": [
    {
     "name": "stderr",
     "output_type": "stream",
     "text": [
      "[nltk_data] Downloading package stopwords to\n",
      "[nltk_data]     C:\\Users\\manikandanarayanan\\AppData\\Roaming\\nltk_data.\n",
      "[nltk_data]     ..\n",
      "[nltk_data]   Package stopwords is already up-to-date!\n",
      "[nltk_data] Downloading package wordnet to\n",
      "[nltk_data]     C:\\Users\\manikandanarayanan\\AppData\\Roaming\\nltk_data.\n",
      "[nltk_data]     ..\n",
      "[nltk_data]   Package wordnet is already up-to-date!\n"
     ]
    }
   ],
   "source": [
    "#Remove Stopwords, Lemmatize/Stemming for Dataset1\n",
    "import nltk\n",
    "from nltk.corpus import stopwords\n",
    "from nltk.stem import WordNetLemmatizer\n",
    "\n",
    "nltk.download('stopwords')\n",
    "nltk.download('wordnet')\n",
    "\n",
    "stop_words = set(stopwords.words('english'))\n",
    "lemmatizer = WordNetLemmatizer()\n",
    "\n",
    "def preprocess_text(text):\n",
    "    words = text.split()\n",
    "    words = [lemmatizer.lemmatize(word) for word in words if word not in stop_words]\n",
    "    return ' '.join(words)\n",
    "\n",
    "df['text'] = df['text'].apply(preprocess_text)\n",
    "df['title'] = df['title'].apply(preprocess_text)\n"
   ]
  },
  {
   "cell_type": "code",
   "execution_count": 26,
   "id": "928b7988-47a7-465a-aba4-47f69a51a4ba",
   "metadata": {},
   "outputs": [
    {
     "name": "stderr",
     "output_type": "stream",
     "text": [
      "[nltk_data] Downloading package stopwords to\n",
      "[nltk_data]     C:\\Users\\manikandanarayanan\\AppData\\Roaming\\nltk_data.\n",
      "[nltk_data]     ..\n",
      "[nltk_data]   Package stopwords is already up-to-date!\n",
      "[nltk_data] Downloading package wordnet to\n",
      "[nltk_data]     C:\\Users\\manikandanarayanan\\AppData\\Roaming\\nltk_data.\n",
      "[nltk_data]     ..\n",
      "[nltk_data]   Package wordnet is already up-to-date!\n"
     ]
    }
   ],
   "source": [
    "#Remove Stopwords, Lemmatize/Stemming for Dataset2\n",
    "nltk.download('stopwords')\n",
    "nltk.download('wordnet')\n",
    "\n",
    "stop_words = set(stopwords.words('english'))\n",
    "lemmatizer = WordNetLemmatizer()\n",
    "\n",
    "def preprocess_text(text):\n",
    "    words = text.split()\n",
    "    words = [lemmatizer.lemmatize(word) for word in words if word not in stop_words]\n",
    "    return ' '.join(words)\n",
    "\n",
    "ds['title'] = ds['title'].apply(preprocess_text)\n",
    "ds['text'] = ds['text'].apply(preprocess_text)"
   ]
  },
  {
   "cell_type": "code",
   "execution_count": 28,
   "id": "cf49f4a3-3182-4b10-89f5-24ae1d35095f",
   "metadata": {},
   "outputs": [
    {
     "name": "stdout",
     "output_type": "stream",
     "text": [
      "                                               title  \\\n",
      "0  u.s. budget fight looms, republican flip fisca...   \n",
      "1  u.s. military accept transgender recruit monda...   \n",
      "2  senior u.s. republican senator: 'let mr. muell...   \n",
      "3  fbi russia probe helped australian diplomat ti...   \n",
      "4  trump want postal service charge 'much more' a...   \n",
      "\n",
      "                                                text       subject       date  \\\n",
      "0  washington (reuters) - head conservative repub...  politicsNews 2017-12-31   \n",
      "1  washington (reuters) - transgender people allo...  politicsNews 2017-12-29   \n",
      "2  washington (reuters) - special counsel investi...  politicsNews 2017-12-31   \n",
      "3  washington (reuters) - trump campaign adviser ...  politicsNews 2017-12-30   \n",
      "4  seattle washington (reuters) - president donal...  politicsNews 2017-12-29   \n",
      "\n",
      "   subject_encoded  \n",
      "0                0  \n",
      "1                0  \n",
      "2                0  \n",
      "3                0  \n",
      "4                0  \n"
     ]
    }
   ],
   "source": [
    "#Encode Categorical Data (e.g., subject)\n",
    "from sklearn.preprocessing import LabelEncoder\n",
    "encoder = LabelEncoder()\n",
    "df['subject_encoded'] = encoder.fit_transform(df['subject'])\n",
    "print(df.head())"
   ]
  },
  {
   "cell_type": "code",
   "execution_count": 33,
   "id": "cfcf701b-3438-45ce-a36a-d14d59c7b590",
   "metadata": {},
   "outputs": [
    {
     "name": "stdout",
     "output_type": "stream",
     "text": [
      "                                               title  \\\n",
      "0  donald trump sends embarrassing new year eve m...   \n",
      "1  drunk bragging trump staffer started russian c...   \n",
      "2  sheriff david clarke becomes internet joke thr...   \n",
      "3  trump obsessed even obama name coded website (...   \n",
      "4  pope francis called donald trump christmas speech   \n",
      "\n",
      "                                                text subject       date  \\\n",
      "0  donald trump wish american happy new year leav...    News 2017-12-31   \n",
      "1  house intelligence committee chairman devin nu...    News 2017-12-31   \n",
      "2  friday, revealed former milwaukee sheriff davi...    News 2017-12-30   \n",
      "3  christmas day, donald trump announced would ba...    News 2017-12-29   \n",
      "4  pope francis used annual christmas day message...    News 2017-12-25   \n",
      "\n",
      "   subject_encoded  \n",
      "0                2  \n",
      "1                2  \n",
      "2                2  \n",
      "3                2  \n",
      "4                2  \n"
     ]
    }
   ],
   "source": [
    "#Encode Categorical Dataset2\n",
    "ds['subject_encoded'] = encoder.fit_transform(ds['subject'])\n",
    "print(ds.head())"
   ]
  },
  {
   "cell_type": "code",
   "execution_count": 32,
   "id": "048b9610-f4f9-4f6d-b592-11efe0195cf2",
   "metadata": {},
   "outputs": [
    {
     "name": "stdout",
     "output_type": "stream",
     "text": [
      "0: Government News\n",
      "1: Middle-east\n",
      "2: News\n",
      "3: US_News\n",
      "4: left-news\n",
      "5: politics\n"
     ]
    }
   ],
   "source": [
    "# Print category mapping\n",
    "for index, label in enumerate(encoder.classes_):\n",
    "    print(f\"{index}: {label}\")"
   ]
  },
  {
   "cell_type": "code",
   "execution_count": 36,
   "id": "c413c696-92bf-43df-a25c-527eded31130",
   "metadata": {},
   "outputs": [],
   "source": [
    "#Save Cleaned Data of Dataset1 in Cleaned_True\n",
    "df.to_csv(\"cleaned_True.csv\", index=False)\n",
    "#Save Cleaned Data of Dataset2 in Cleaned_Fake\n",
    "ds.to_csv(\"cleaned_False.csv\", index=False)"
   ]
  },
  {
   "cell_type": "code",
   "execution_count": 37,
   "id": "fdc31d15-87b6-43fa-b035-dd934b296309",
   "metadata": {},
   "outputs": [
    {
     "name": "stdout",
     "output_type": "stream",
     "text": [
      "                                               title  \\\n",
      "0  u.s. budget fight looms, republican flip fisca...   \n",
      "1  u.s. military accept transgender recruit monda...   \n",
      "2  senior u.s. republican senator: 'let mr. muell...   \n",
      "3  fbi russia probe helped australian diplomat ti...   \n",
      "4  trump want postal service charge 'much more' a...   \n",
      "\n",
      "                                                text       subject       date  \\\n",
      "0  washington (reuters) - head conservative repub...  politicsNews 2017-12-31   \n",
      "1  washington (reuters) - transgender people allo...  politicsNews 2017-12-29   \n",
      "2  washington (reuters) - special counsel investi...  politicsNews 2017-12-31   \n",
      "3  washington (reuters) - trump campaign adviser ...  politicsNews 2017-12-30   \n",
      "4  seattle washington (reuters) - president donal...  politicsNews 2017-12-29   \n",
      "\n",
      "   subject_encoded  \n",
      "0                0  \n",
      "1                0  \n",
      "2                0  \n",
      "3                0  \n",
      "4                0  \n",
      "                                               title  \\\n",
      "0  donald trump sends embarrassing new year eve m...   \n",
      "1  drunk bragging trump staffer started russian c...   \n",
      "2  sheriff david clarke becomes internet joke thr...   \n",
      "3  trump obsessed even obama name coded website (...   \n",
      "4  pope francis called donald trump christmas speech   \n",
      "\n",
      "                                                text subject       date  \\\n",
      "0  donald trump wish american happy new year leav...    News 2017-12-31   \n",
      "1  house intelligence committee chairman devin nu...    News 2017-12-31   \n",
      "2  friday, revealed former milwaukee sheriff davi...    News 2017-12-30   \n",
      "3  christmas day, donald trump announced would ba...    News 2017-12-29   \n",
      "4  pope francis used annual christmas day message...    News 2017-12-25   \n",
      "\n",
      "   subject_encoded  \n",
      "0                2  \n",
      "1                2  \n",
      "2                2  \n",
      "3                2  \n",
      "4                2  \n"
     ]
    }
   ],
   "source": [
    "print(df.head())\n",
    "print(ds.head())"
   ]
  },
  {
   "cell_type": "code",
   "execution_count": null,
   "id": "176a9906-30a5-4637-aced-2f760701d024",
   "metadata": {},
   "outputs": [],
   "source": []
  }
 ],
 "metadata": {
  "kernelspec": {
   "display_name": "Python 3 (ipykernel)",
   "language": "python",
   "name": "python3"
  },
  "language_info": {
   "codemirror_mode": {
    "name": "ipython",
    "version": 3
   },
   "file_extension": ".py",
   "mimetype": "text/x-python",
   "name": "python",
   "nbconvert_exporter": "python",
   "pygments_lexer": "ipython3",
   "version": "3.12.6"
  }
 },
 "nbformat": 4,
 "nbformat_minor": 5
}
