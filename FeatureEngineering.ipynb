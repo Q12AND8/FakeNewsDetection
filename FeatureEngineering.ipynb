{
 "cells": [
  {
   "cell_type": "code",
   "execution_count": 1,
   "id": "90c0f1ae-37b0-40de-8b89-6a1dda0e8566",
   "metadata": {},
   "outputs": [
    {
     "name": "stderr",
     "output_type": "stream",
     "text": [
      "[nltk_data] Downloading package wordnet to C:\\Users\\dhany/nltk_data...\n",
      "[nltk_data]   Package wordnet is already up-to-date!\n",
      "[nltk_data] Downloading package averaged_perceptron_tagger to\n",
      "[nltk_data]     C:\\Users\\dhany/nltk_data...\n",
      "[nltk_data]   Package averaged_perceptron_tagger is already up-to-\n",
      "[nltk_data]       date!\n"
     ]
    },
    {
     "name": "stdout",
     "output_type": "stream",
     "text": [
      "                                               title  \\\n",
      "0  u.s. budget fight looms, republican flip fisca...   \n",
      "1  u.s. military accept transgender recruit monda...   \n",
      "2  senior u.s. republican senator: 'let mr. muell...   \n",
      "3  fbi russia probe helped australian diplomat ti...   \n",
      "4  trump want postal service charge 'much more' a...   \n",
      "\n",
      "                                                text       subject  \\\n",
      "0  washington (reuters) - head conservative repub...  politicsNews   \n",
      "1  washington (reuters) - transgender people allo...  politicsNews   \n",
      "2  washington (reuters) - special counsel investi...  politicsNews   \n",
      "3  washington (reuters) - trump campaign adviser ...  politicsNews   \n",
      "4  seattle washington (reuters) - president donal...  politicsNews   \n",
      "\n",
      "         date  subject_encoded  label  \n",
      "0  2017-12-31                6      1  \n",
      "1  2017-12-29                6      1  \n",
      "2  2017-12-31                6      1  \n",
      "3  2017-12-30                6      1  \n",
      "4  2017-12-29                6      1  \n"
     ]
    }
   ],
   "source": [
    "import pandas as pd\n",
    "import numpy as np\n",
    "from sklearn.feature_extraction.text import TfidfVectorizer\n",
    "from sklearn.decomposition import PCA\n",
    "from nltk.corpus import stopwords\n",
    "from nltk.stem import WordNetLemmatizer\n",
    "from nltk import pos_tag\n",
    "from nltk.tokenize import word_tokenize\n",
    "import nltk\n",
    "import re\n",
    "from textblob import TextBlob\n",
    "\n",
    "nltk.download('wordnet')\n",
    "nltk.download('averaged_perceptron_tagger')\n",
    "\n",
    "# Load your dataset\n",
    "df = pd.read_csv('Merged_Dataset.csv')  \n",
    "print(df.head())"
   ]
  },
  {
   "cell_type": "code",
   "execution_count": 2,
   "id": "bf2bdcb7-7062-4b4c-8c89-811af476afc5",
   "metadata": {},
   "outputs": [
    {
     "name": "stderr",
     "output_type": "stream",
     "text": [
      "[nltk_data] Downloading package punkt_tab to\n",
      "[nltk_data]     C:\\Users\\dhany/nltk_data...\n",
      "[nltk_data]   Package punkt_tab is already up-to-date!\n",
      "[nltk_data] Downloading package punkt to C:\\Users\\dhany/nltk_data...\n",
      "[nltk_data]   Package punkt is already up-to-date!\n",
      "[nltk_data] Downloading package stopwords to\n",
      "[nltk_data]     C:\\Users\\dhany/nltk_data...\n",
      "[nltk_data]   Package stopwords is already up-to-date!\n"
     ]
    },
    {
     "name": "stdout",
     "output_type": "stream",
     "text": [
      "                                               title  \\\n",
      "0  u.s. budget fight looms, republican flip fisca...   \n",
      "1  u.s. military accept transgender recruit monda...   \n",
      "2  senior u.s. republican senator: 'let mr. muell...   \n",
      "3  fbi russia probe helped australian diplomat ti...   \n",
      "4  trump want postal service charge 'much more' a...   \n",
      "\n",
      "                                                text       subject  \\\n",
      "0  washington (reuters) - head conservative repub...  politicsNews   \n",
      "1  washington (reuters) - transgender people allo...  politicsNews   \n",
      "2  washington (reuters) - special counsel investi...  politicsNews   \n",
      "3  washington (reuters) - trump campaign adviser ...  politicsNews   \n",
      "4  seattle washington (reuters) - president donal...  politicsNews   \n",
      "\n",
      "         date  subject_encoded  label  \\\n",
      "0  2017-12-31                6      1   \n",
      "1  2017-12-29                6      1   \n",
      "2  2017-12-31                6      1   \n",
      "3  2017-12-30                6      1   \n",
      "4  2017-12-29                6      1   \n",
      "\n",
      "                                          clean_text  \n",
      "0  washington reuters head conservative republica...  \n",
      "1  washington reuters transgender people allowed ...  \n",
      "2  washington reuters special counsel investigati...  \n",
      "3  washington reuters trump campaign adviser geor...  \n",
      "4  seattle washington reuters president donald tr...  \n"
     ]
    }
   ],
   "source": [
    "nltk.download('punkt_tab')\n",
    "nltk.download('punkt')  \n",
    "nltk.download('stopwords')  \n",
    "\n",
    "from nltk.corpus import stopwords\n",
    "from nltk.tokenize import word_tokenize\n",
    "from nltk.stem import WordNetLemmatizer\n",
    "import re\n",
    "\n",
    "stop_words = set(stopwords.words('english'))\n",
    "lemmatizer = WordNetLemmatizer()\n",
    "\n",
    "def preprocess_text(text):\n",
    "    text = re.sub(r'[^a-zA-Z]', ' ', str(text))  # Remove punctuation/numbers\n",
    "    tokens = word_tokenize(text.lower())  # Tokenize\n",
    "    tokens = [lemmatizer.lemmatize(word) for word in tokens if word not in stop_words and len(word) > 2]\n",
    "    return ' '.join(tokens)\n",
    "\n",
    "# Now apply the preprocessing\n",
    "df['clean_text'] = df['text'].apply(preprocess_text)\n",
    "print(df.head())\n"
   ]
  },
  {
   "cell_type": "code",
   "execution_count": 3,
   "id": "7b8f0a96-9934-4496-87e0-14e96f7a3727",
   "metadata": {},
   "outputs": [
    {
     "name": "stdout",
     "output_type": "stream",
     "text": [
      "                                               title  \\\n",
      "0  u.s. budget fight looms, republican flip fisca...   \n",
      "1  u.s. military accept transgender recruit monda...   \n",
      "2  senior u.s. republican senator: 'let mr. muell...   \n",
      "3  fbi russia probe helped australian diplomat ti...   \n",
      "4  trump want postal service charge 'much more' a...   \n",
      "\n",
      "                                                text       subject  \\\n",
      "0  washington (reuters) - head conservative repub...  politicsNews   \n",
      "1  washington (reuters) - transgender people allo...  politicsNews   \n",
      "2  washington (reuters) - special counsel investi...  politicsNews   \n",
      "3  washington (reuters) - trump campaign adviser ...  politicsNews   \n",
      "4  seattle washington (reuters) - president donal...  politicsNews   \n",
      "\n",
      "         date  subject_encoded  label  \\\n",
      "0  2017-12-31                6      1   \n",
      "1  2017-12-29                6      1   \n",
      "2  2017-12-31                6      1   \n",
      "3  2017-12-30                6      1   \n",
      "4  2017-12-29                6      1   \n",
      "\n",
      "                                          clean_text  \n",
      "0  washington reuters head conservative republica...  \n",
      "1  washington reuters transgender people allowed ...  \n",
      "2  washington reuters special counsel investigati...  \n",
      "3  washington reuters trump campaign adviser geor...  \n",
      "4  seattle washington reuters president donald tr...  \n"
     ]
    }
   ],
   "source": [
    "# TF-IDF Vectorization with N-grams\n",
    "tfidf_vectorizer = TfidfVectorizer(ngram_range=(1, 3), max_features=1000)\n",
    "tfidf_matrix = tfidf_vectorizer.fit_transform(df['clean_text'])\n",
    "\n",
    "# Convert to DataFrame for feature merging\n",
    "tfidf_df = pd.DataFrame(tfidf_matrix.toarray(), columns=tfidf_vectorizer.get_feature_names_out())\n",
    "print(df.head())"
   ]
  },
  {
   "cell_type": "code",
   "execution_count": 4,
   "id": "83b3aa0d-a401-4cc1-88ff-f82ca38b38f7",
   "metadata": {},
   "outputs": [
    {
     "name": "stdout",
     "output_type": "stream",
     "text": [
      "                                               title  \\\n",
      "0  u.s. budget fight looms, republican flip fisca...   \n",
      "1  u.s. military accept transgender recruit monda...   \n",
      "2  senior u.s. republican senator: 'let mr. muell...   \n",
      "3  fbi russia probe helped australian diplomat ti...   \n",
      "4  trump want postal service charge 'much more' a...   \n",
      "\n",
      "                                                text       subject       date  \\\n",
      "0  washington (reuters) - head conservative repub...  politicsNews 2017-12-31   \n",
      "1  washington (reuters) - transgender people allo...  politicsNews 2017-12-29   \n",
      "2  washington (reuters) - special counsel investi...  politicsNews 2017-12-31   \n",
      "3  washington (reuters) - trump campaign adviser ...  politicsNews 2017-12-30   \n",
      "4  seattle washington (reuters) - president donal...  politicsNews 2017-12-29   \n",
      "\n",
      "   subject_encoded  label                                         clean_text  \\\n",
      "0                6      1  washington reuters head conservative republica...   \n",
      "1                6      1  washington reuters transgender people allowed ...   \n",
      "2                6      1  washington reuters special counsel investigati...   \n",
      "3                6      1  washington reuters trump campaign adviser geor...   \n",
      "4                6      1  seattle washington reuters president donald tr...   \n",
      "\n",
      "   day  month  year  weekday  \n",
      "0   31     12  2017        6  \n",
      "1   29     12  2017        4  \n",
      "2   31     12  2017        6  \n",
      "3   30     12  2017        5  \n",
      "4   29     12  2017        4  \n"
     ]
    }
   ],
   "source": [
    "df['date'] = pd.to_datetime(df['date'], dayfirst=False)\n",
    "df['day'] = df['date'].dt.day\n",
    "df['month'] = df['date'].dt.month\n",
    "df['year'] = df['date'].dt.year\n",
    "df['weekday'] = df['date'].dt.weekday\n",
    "print(df.head())"
   ]
  },
  {
   "cell_type": "code",
   "execution_count": 5,
   "id": "c90acb70-86f8-4a4b-829a-b6d44d12909b",
   "metadata": {},
   "outputs": [
    {
     "name": "stdout",
     "output_type": "stream",
     "text": [
      "                                               title  \\\n",
      "0  u.s. budget fight looms, republican flip fisca...   \n",
      "1  u.s. military accept transgender recruit monda...   \n",
      "2  senior u.s. republican senator: 'let mr. muell...   \n",
      "3  fbi russia probe helped australian diplomat ti...   \n",
      "4  trump want postal service charge 'much more' a...   \n",
      "\n",
      "                                                text       subject       date  \\\n",
      "0  washington (reuters) - head conservative repub...  politicsNews 2017-12-31   \n",
      "1  washington (reuters) - transgender people allo...  politicsNews 2017-12-29   \n",
      "2  washington (reuters) - special counsel investi...  politicsNews 2017-12-31   \n",
      "3  washington (reuters) - trump campaign adviser ...  politicsNews 2017-12-30   \n",
      "4  seattle washington (reuters) - president donal...  politicsNews 2017-12-29   \n",
      "\n",
      "   subject_encoded  label                                         clean_text  \\\n",
      "0                6      1  washington reuters head conservative republica...   \n",
      "1                6      1  washington reuters transgender people allowed ...   \n",
      "2                6      1  washington reuters special counsel investigati...   \n",
      "3                6      1  washington reuters trump campaign adviser geor...   \n",
      "4                6      1  seattle washington reuters president donald tr...   \n",
      "\n",
      "   day  month  year  weekday  sentiment  \n",
      "0   31     12  2017        6   0.027671  \n",
      "1   29     12  2017        4   0.082515  \n",
      "2   31     12  2017        6   0.127165  \n",
      "3   30     12  2017        5   0.031498  \n",
      "4   29     12  2017        4   0.032205  \n"
     ]
    }
   ],
   "source": [
    "# Sentiment Score \n",
    "def get_sentiment(text):\n",
    "    return TextBlob(str(text)).sentiment.polarity\n",
    "\n",
    "df['sentiment'] = df['clean_text'].apply(get_sentiment)\n",
    "print(df.head())"
   ]
  },
  {
   "cell_type": "code",
   "execution_count": 6,
   "id": "33f5f410-6920-47c0-a04d-4416dc53aa06",
   "metadata": {},
   "outputs": [
    {
     "name": "stdout",
     "output_type": "stream",
     "text": [
      "                                               title  \\\n",
      "0  u.s. budget fight looms, republican flip fisca...   \n",
      "1  u.s. military accept transgender recruit monda...   \n",
      "2  senior u.s. republican senator: 'let mr. muell...   \n",
      "3  fbi russia probe helped australian diplomat ti...   \n",
      "4  trump want postal service charge 'much more' a...   \n",
      "\n",
      "                                                text       subject       date  \\\n",
      "0  washington (reuters) - head conservative repub...  politicsNews 2017-12-31   \n",
      "1  washington (reuters) - transgender people allo...  politicsNews 2017-12-29   \n",
      "2  washington (reuters) - special counsel investi...  politicsNews 2017-12-31   \n",
      "3  washington (reuters) - trump campaign adviser ...  politicsNews 2017-12-30   \n",
      "4  seattle washington (reuters) - president donal...  politicsNews 2017-12-29   \n",
      "\n",
      "   subject_encoded  label                                         clean_text  \\\n",
      "0                6      1  washington reuters head conservative republica...   \n",
      "1                6      1  washington reuters transgender people allowed ...   \n",
      "2                6      1  washington reuters special counsel investigati...   \n",
      "3                6      1  washington reuters trump campaign adviser geor...   \n",
      "4                6      1  seattle washington reuters president donald tr...   \n",
      "\n",
      "   day  month  year  weekday  sentiment  \n",
      "0   31     12  2017        6   0.027671  \n",
      "1   29     12  2017        4   0.082515  \n",
      "2   31     12  2017        6   0.127165  \n",
      "3   30     12  2017        5   0.031498  \n",
      "4   29     12  2017        4   0.032205  \n"
     ]
    }
   ],
   "source": [
    " # Combine All Features\n",
    "meta_features = df[['day', 'month', 'year', 'weekday', 'sentiment']].reset_index(drop=True)\n",
    "final_features = pd.concat([meta_features, tfidf_df], axis=1)\n",
    "print(df.head())"
   ]
  },
  {
   "cell_type": "code",
   "execution_count": 7,
   "id": "a3555faa-5077-4978-b529-83c23e1b15d3",
   "metadata": {},
   "outputs": [],
   "source": [
    "from gensim.models import Word2Vec\n",
    "\n",
    "# Train your own Word2Vec model (or load a pre-trained one)\n",
    "tokenized = df['clean_text'].apply(lambda x: x.split())\n",
    "w2v_model = Word2Vec(sentences=tokenized, vector_size=100, window=5, min_count=2, workers=4)\n"
   ]
  },
  {
   "cell_type": "code",
   "execution_count": 8,
   "id": "01b2df25-03be-472a-b75e-e9b0d47c0cb0",
   "metadata": {},
   "outputs": [
    {
     "name": "stdout",
     "output_type": "stream",
     "text": [
      "                                               title  \\\n",
      "0  u.s. budget fight looms, republican flip fisca...   \n",
      "1  u.s. military accept transgender recruit monda...   \n",
      "2  senior u.s. republican senator: 'let mr. muell...   \n",
      "3  fbi russia probe helped australian diplomat ti...   \n",
      "4  trump want postal service charge 'much more' a...   \n",
      "\n",
      "                                                text       subject       date  \\\n",
      "0  washington (reuters) - head conservative repub...  politicsNews 2017-12-31   \n",
      "1  washington (reuters) - transgender people allo...  politicsNews 2017-12-29   \n",
      "2  washington (reuters) - special counsel investi...  politicsNews 2017-12-31   \n",
      "3  washington (reuters) - trump campaign adviser ...  politicsNews 2017-12-30   \n",
      "4  seattle washington (reuters) - president donal...  politicsNews 2017-12-29   \n",
      "\n",
      "   subject_encoded  label                                         clean_text  \\\n",
      "0                6      1  washington reuters head conservative republica...   \n",
      "1                6      1  washington reuters transgender people allowed ...   \n",
      "2                6      1  washington reuters special counsel investigati...   \n",
      "3                6      1  washington reuters trump campaign adviser geor...   \n",
      "4                6      1  seattle washington reuters president donald tr...   \n",
      "\n",
      "   day  month  year  weekday  sentiment  \\\n",
      "0   31     12  2017        6   0.027671   \n",
      "1   29     12  2017        4   0.082515   \n",
      "2   31     12  2017        6   0.127165   \n",
      "3   30     12  2017        5   0.031498   \n",
      "4   29     12  2017        4   0.032205   \n",
      "\n",
      "                                          w2v_vector  \n",
      "0  [0.28440115, -0.12959273, -0.048819065, 0.0230...  \n",
      "1  [0.06076603, -0.3251412, -0.04115983, -0.24447...  \n",
      "2  [0.16078322, -0.114643425, -0.26390564, 0.0969...  \n",
      "3  [0.20453845, -0.28675777, -0.067047454, -0.202...  \n",
      "4  [0.3234894, -0.34040177, -0.25461563, 0.171959...  \n"
     ]
    }
   ],
   "source": [
    "def get_average_vector(tokens, model, vector_size):\n",
    "    vectors = [model.wv[word] for word in tokens if word in model.wv]\n",
    "    if vectors:\n",
    "        return np.mean(vectors, axis=0)\n",
    "    else:\n",
    "        return np.zeros(vector_size)\n",
    "\n",
    "df['w2v_vector'] = tokenized.apply(lambda x: get_average_vector(x, w2v_model, 100))\n",
    "print(df.head())"
   ]
  },
  {
   "cell_type": "code",
   "execution_count": null,
   "id": "9f30511f-f090-4970-905b-caffdcdf7dc9",
   "metadata": {},
   "outputs": [],
   "source": []
  }
 ],
 "metadata": {
  "kernelspec": {
   "display_name": "Python (nlp_env)",
   "language": "python",
   "name": "nlp_env"
  },
  "language_info": {
   "codemirror_mode": {
    "name": "ipython",
    "version": 3
   },
   "file_extension": ".py",
   "mimetype": "text/x-python",
   "name": "python",
   "nbconvert_exporter": "python",
   "pygments_lexer": "ipython3",
   "version": "3.10.0"
  }
 },
 "nbformat": 4,
 "nbformat_minor": 5
}
